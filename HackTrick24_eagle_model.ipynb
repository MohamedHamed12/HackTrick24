{
 "cells": [
  {
   "cell_type": "code",
   "execution_count": 1,
   "metadata": {
    "id": "zvszqzSPZxtr"
   },
   "outputs": [
    {
     "name": "stderr",
     "output_type": "stream",
     "text": [
      "C:\\Users\\dell\\anaconda3\\lib\\site-packages\\numpy\\_distributor_init.py:30: UserWarning: loaded more than 1 DLL from .libs:\n",
      "C:\\Users\\dell\\anaconda3\\lib\\site-packages\\numpy\\.libs\\libopenblas.EL2C6PLE4ZYW3ECEVIV3OXXGRN2NRFM2.gfortran-win_amd64.dll\n",
      "C:\\Users\\dell\\anaconda3\\lib\\site-packages\\numpy\\.libs\\libopenblas64__v0.3.21-gcc_10_3_0.dll\n",
      "  warnings.warn(\"loaded more than 1 DLL from .libs:\"\n"
     ]
    }
   ],
   "source": [
    "import numpy as np\n",
    "\n",
    "real_data = np.load('real.npz')\n",
    "fake_data = np.load('fake.npz')"
   ]
  },
  {
   "cell_type": "code",
   "execution_count": 2,
   "metadata": {
    "colab": {
     "base_uri": "https://localhost:8080/"
    },
    "id": "MtUWMzqJZ8yp",
    "outputId": "29c0b46e-12f4-4912-d5b7-0a839d3a8983"
   },
   "outputs": [
    {
     "data": {
      "text/plain": [
       "(KeysView(<numpy.lib.npyio.NpzFile object at 0x000001F172B27190>),\n",
       " KeysView(<numpy.lib.npyio.NpzFile object at 0x000001F172B27100>))"
      ]
     },
     "execution_count": 2,
     "metadata": {},
     "output_type": "execute_result"
    }
   ],
   "source": [
    "real_data.keys(), fake_data.keys()"
   ]
  },
  {
   "cell_type": "code",
   "execution_count": 3,
   "metadata": {
    "id": "MAX-zEL4Z_Fp"
   },
   "outputs": [],
   "source": [
    "real_x = real_data['x']\n",
    "real_y = real_data['y']\n",
    "\n",
    "fake_x = fake_data['x']\n",
    "fake_y = fake_data['y']"
   ]
  },
  {
   "cell_type": "code",
   "execution_count": 4,
   "metadata": {
    "colab": {
     "base_uri": "https://localhost:8080/"
    },
    "id": "oyBRbRVUaYce",
    "outputId": "1b2a6bdb-2209-4c39-a567-60598b693c4a"
   },
   "outputs": [
    {
     "data": {
      "text/plain": [
       "((750, 1998, 101), numpy.ndarray)"
      ]
     },
     "execution_count": 4,
     "metadata": {},
     "output_type": "execute_result"
    }
   ],
   "source": [
    "real_x.shape, type(real_x)"
   ]
  },
  {
   "cell_type": "code",
   "execution_count": 5,
   "metadata": {
    "colab": {
     "base_uri": "https://localhost:8080/"
    },
    "id": "n-d3-QzlaZwq",
    "outputId": "266a14a3-a9b8-4d33-e022-d5f33bd22f26"
   },
   "outputs": [
    {
     "data": {
      "text/plain": [
       "((750, 1998, 101), numpy.ndarray)"
      ]
     },
     "execution_count": 5,
     "metadata": {},
     "output_type": "execute_result"
    }
   ],
   "source": [
    "fake_x.shape, type(fake_x)"
   ]
  },
  {
   "cell_type": "code",
   "execution_count": 6,
   "metadata": {
    "colab": {
     "base_uri": "https://localhost:8080/"
    },
    "id": "8IYhARshakDx",
    "outputId": "5ce9aba7-bf80-4830-cf29-d2c9453bdae9"
   },
   "outputs": [
    {
     "data": {
      "text/plain": [
       "((750, 496), numpy.ndarray)"
      ]
     },
     "execution_count": 6,
     "metadata": {},
     "output_type": "execute_result"
    }
   ],
   "source": [
    "real_y.shape, type(real_y)"
   ]
  },
  {
   "cell_type": "code",
   "execution_count": 7,
   "metadata": {
    "colab": {
     "base_uri": "https://localhost:8080/"
    },
    "id": "KVLW3y0sao6A",
    "outputId": "7bd0de3e-4dff-41c2-c0bf-abf026c870f1"
   },
   "outputs": [
    {
     "data": {
      "text/plain": [
       "((750, 496), numpy.ndarray)"
      ]
     },
     "execution_count": 7,
     "metadata": {},
     "output_type": "execute_result"
    }
   ],
   "source": [
    "fake_y.shape, type(fake_y)"
   ]
  },
  {
   "cell_type": "code",
   "execution_count": 8,
   "metadata": {
    "colab": {
     "base_uri": "https://localhost:8080/"
    },
    "id": "sGCYbpjIasKy",
    "outputId": "0686f130-f83b-484c-c9a3-dfa8516980ba"
   },
   "outputs": [
    {
     "data": {
      "text/plain": [
       "(array([0, 1], dtype=int8), array([0], dtype=int8))"
      ]
     },
     "execution_count": 8,
     "metadata": {},
     "output_type": "execute_result"
    }
   ],
   "source": [
    "np.unique(real_y), np.unique(fake_y)"
   ]
  },
  {
   "cell_type": "code",
   "execution_count": 9,
   "metadata": {
    "colab": {
     "base_uri": "https://localhost:8080/"
    },
    "id": "0shUd61rfm85",
    "outputId": "7d53429d-c13c-4a98-81f1-089f40ae4d03"
   },
   "outputs": [
    {
     "data": {
      "text/plain": [
       "True"
      ]
     },
     "execution_count": 9,
     "metadata": {},
     "output_type": "execute_result"
    }
   ],
   "source": [
    "np.all(np.logical_and(np.any(real_y == 0, axis=1), np.any(real_y == 1, axis=1)))"
   ]
  },
  {
   "cell_type": "code",
   "execution_count": 10,
   "metadata": {
    "colab": {
     "base_uri": "https://localhost:8080/"
    },
    "id": "XAwd2A_HatjG",
    "outputId": "7d1d049d-fe63-4ade-9099-bec29081aa7d"
   },
   "outputs": [
    {
     "data": {
      "text/plain": [
       "(False, False)"
      ]
     },
     "execution_count": 10,
     "metadata": {},
     "output_type": "execute_result"
    }
   ],
   "source": [
    "np.any(np.isnan(real_x.flatten())), np.any(np.isnan(fake_x.flatten()))"
   ]
  },
  {
   "cell_type": "code",
   "execution_count": 11,
   "metadata": {
    "colab": {
     "base_uri": "https://localhost:8080/"
    },
    "id": "DLRRLi1CqRFY",
    "outputId": "6992e055-9a23-4d03-fbf3-5e6465099afc"
   },
   "outputs": [
    {
     "data": {
      "text/plain": [
       "(True, True)"
      ]
     },
     "execution_count": 11,
     "metadata": {},
     "output_type": "execute_result"
    }
   ],
   "source": [
    "np.any(np.isinf(real_x.flatten())), np.any(np.isinf(fake_x.flatten()))"
   ]
  },
  {
   "cell_type": "code",
   "execution_count": 12,
   "metadata": {
    "id": "DWUnveRoatWI"
   },
   "outputs": [],
   "source": [
    "import numpy as np\n",
    "from sklearn.model_selection import train_test_split\n",
    "\n",
    "X = np.concatenate((real_x, fake_x), axis=0)\n",
    "Y = np.concatenate((real_y, fake_y), axis=0)\n",
    "\n",
    "# X[np.isinf(X)] = np.finfo(X.dtype).max\n",
    "Y = np.any(Y == 1, axis=-1)\n",
    "\n",
    "rng = np.random.default_rng(seed=42)\n",
    "indices = np.arange(X.shape[0])\n",
    "rng.shuffle(indices)\n",
    "\n",
    "X_shuffled = X[indices]\n",
    "Y_shuffled = Y[indices]\n",
    "\n",
    "X_train, X_temp, Y_train, Y_temp = train_test_split(X_shuffled, Y_shuffled, test_size=0.2, random_state=42)\n",
    "X_test, X_val, Y_test, Y_val = train_test_split(X_temp, Y_temp, test_size=0.5, random_state=42)"
   ]
  },
  {
   "cell_type": "code",
   "execution_count": 13,
   "metadata": {
    "colab": {
     "base_uri": "https://localhost:8080/"
    },
    "id": "9uz8JkCpeDQh",
    "outputId": "0d0a851e-89d7-4a35-e5cc-5ceba7599343"
   },
   "outputs": [
    {
     "data": {
      "text/plain": [
       "((1200, 1998, 101), (1200,))"
      ]
     },
     "execution_count": 13,
     "metadata": {},
     "output_type": "execute_result"
    }
   ],
   "source": [
    "X_train.shape, Y_train.shape"
   ]
  },
  {
   "cell_type": "code",
   "execution_count": 14,
   "metadata": {
    "colab": {
     "base_uri": "https://localhost:8080/"
    },
    "id": "9KCDob8whnAe",
    "outputId": "cdf799f6-7221-40ea-cf71-7878bc597d27"
   },
   "outputs": [
    {
     "data": {
      "text/plain": [
       "65500.0"
      ]
     },
     "execution_count": 14,
     "metadata": {},
     "output_type": "execute_result"
    }
   ],
   "source": [
    "np.finfo(X.dtype).max"
   ]
  },
  {
   "cell_type": "code",
   "execution_count": 15,
   "metadata": {
    "id": "HD2sHMB2hpuh"
   },
   "outputs": [],
   "source": [
    "def handle_infinite_values(x):\n",
    "    return tf.where(x > 65500, tf.fill(tf.shape(x), tf.constant(65500, dtype=x.dtype)), x)"
   ]
  },
  {
   "cell_type": "code",
   "execution_count": 16,
   "metadata": {
    "id": "ZJ0-CA3heFp1"
   },
   "outputs": [],
   "source": [
    "import tensorflow as tf\n",
    "\n",
    "model = tf.keras.Sequential([\n",
    "    tf.keras.layers.Lambda(handle_infinite_values, input_shape=(1998, 101)),\n",
    "    tf.keras.layers.Conv1D(64, kernel_size=3, activation='relu'),\n",
    "    tf.keras.layers.MaxPooling1D(pool_size=2),\n",
    "    tf.keras.layers.Conv1D(128, kernel_size=3, activation='relu'),\n",
    "    tf.keras.layers.MaxPooling1D(pool_size=2),\n",
    "    tf.keras.layers.Conv1D(256, kernel_size=3, activation='relu'),\n",
    "    tf.keras.layers.MaxPooling1D(pool_size=2),\n",
    "    tf.keras.layers.Dropout(0.5),\n",
    "    tf.keras.layers.Conv1D(512, kernel_size=3, activation='relu'),\n",
    "    tf.keras.layers.MaxPooling1D(pool_size=2),\n",
    "    tf.keras.layers.Flatten(),\n",
    "    tf.keras.layers.Dense(512, activation='relu'),\n",
    "    tf.keras.layers.Dropout(0.5),\n",
    "    tf.keras.layers.Dense(256, activation='relu'),\n",
    "    tf.keras.layers.Dense(128, activation='relu'),\n",
    "    tf.keras.layers.Dense(1, activation='sigmoid')\n",
    "])\n",
    "\n",
    "model.compile(optimizer='adam', loss='binary_crossentropy', metrics=['accuracy'])"
   ]
  },
  {
   "cell_type": "code",
   "execution_count": 17,
   "metadata": {
    "colab": {
     "base_uri": "https://localhost:8080/"
    },
    "id": "sBOZW15joi68",
    "outputId": "c79b0104-402c-4393-b7d4-1cc5e8e16e55"
   },
   "outputs": [
    {
     "name": "stdout",
     "output_type": "stream",
     "text": [
      "Epoch 1/30\n",
      "38/38 [==============================] - 37s 883ms/step - loss: 156.8828 - accuracy: 0.5133 - val_loss: 0.6903 - val_accuracy: 0.5267\n",
      "Epoch 2/30\n",
      "38/38 [==============================] - 33s 868ms/step - loss: 0.8231 - accuracy: 0.5533 - val_loss: 0.6917 - val_accuracy: 0.5067\n",
      "Epoch 3/30\n",
      "38/38 [==============================] - 31s 816ms/step - loss: 0.7136 - accuracy: 0.5767 - val_loss: 0.6745 - val_accuracy: 0.5267\n",
      "Epoch 4/30\n",
      "38/38 [==============================] - 33s 869ms/step - loss: 0.5741 - accuracy: 0.7017 - val_loss: 0.4950 - val_accuracy: 0.7600\n",
      "Epoch 5/30\n",
      "38/38 [==============================] - 31s 820ms/step - loss: 0.4359 - accuracy: 0.7917 - val_loss: 0.3286 - val_accuracy: 0.8267\n",
      "Epoch 6/30\n",
      "38/38 [==============================] - 31s 822ms/step - loss: 0.3432 - accuracy: 0.8483 - val_loss: 0.2299 - val_accuracy: 0.8933\n",
      "Epoch 7/30\n",
      "38/38 [==============================] - 34s 897ms/step - loss: 0.2526 - accuracy: 0.8975 - val_loss: 0.1690 - val_accuracy: 0.9600\n",
      "Epoch 8/30\n",
      "38/38 [==============================] - 29s 776ms/step - loss: 0.1976 - accuracy: 0.9250 - val_loss: 0.1424 - val_accuracy: 0.9533\n",
      "Epoch 9/30\n",
      "38/38 [==============================] - 30s 799ms/step - loss: 0.1383 - accuracy: 0.9533 - val_loss: 0.0598 - val_accuracy: 0.9667\n",
      "Epoch 10/30\n",
      "38/38 [==============================] - 31s 815ms/step - loss: 0.1007 - accuracy: 0.9550 - val_loss: 0.0223 - val_accuracy: 0.9800\n",
      "Epoch 11/30\n",
      "38/38 [==============================] - 32s 835ms/step - loss: 0.0866 - accuracy: 0.9733 - val_loss: 0.0812 - val_accuracy: 0.9733\n",
      "Epoch 12/30\n",
      "38/38 [==============================] - 33s 882ms/step - loss: 0.0636 - accuracy: 0.9842 - val_loss: 0.0069 - val_accuracy: 1.0000\n",
      "Epoch 13/30\n",
      "38/38 [==============================] - 31s 807ms/step - loss: 0.0693 - accuracy: 0.9858 - val_loss: 0.0199 - val_accuracy: 0.9933\n",
      "Epoch 14/30\n",
      "38/38 [==============================] - 29s 775ms/step - loss: 0.0209 - accuracy: 0.9933 - val_loss: 0.0119 - val_accuracy: 0.9867\n",
      "Epoch 15/30\n",
      "38/38 [==============================] - 31s 815ms/step - loss: 0.0221 - accuracy: 0.9942 - val_loss: 0.0116 - val_accuracy: 0.9933\n",
      "Epoch 16/30\n",
      "38/38 [==============================] - 32s 845ms/step - loss: 0.0055 - accuracy: 0.9975 - val_loss: 0.0201 - val_accuracy: 0.9933\n",
      "Epoch 17/30\n",
      "38/38 [==============================] - 33s 871ms/step - loss: 0.2437 - accuracy: 0.9158 - val_loss: 0.1031 - val_accuracy: 0.9867\n",
      "Epoch 18/30\n",
      "38/38 [==============================] - 34s 881ms/step - loss: 0.0873 - accuracy: 0.9808 - val_loss: 0.0775 - val_accuracy: 0.9667\n",
      "Epoch 19/30\n",
      "38/38 [==============================] - 34s 885ms/step - loss: 0.0312 - accuracy: 0.9917 - val_loss: 0.0071 - val_accuracy: 0.9933\n",
      "Epoch 20/30\n",
      "38/38 [==============================] - 31s 831ms/step - loss: 0.0308 - accuracy: 0.9900 - val_loss: 0.0108 - val_accuracy: 0.9933\n",
      "Epoch 21/30\n",
      "38/38 [==============================] - 33s 863ms/step - loss: 0.0293 - accuracy: 0.9908 - val_loss: 0.0089 - val_accuracy: 0.9933\n",
      "Epoch 22/30\n",
      "38/38 [==============================] - 32s 841ms/step - loss: 0.0451 - accuracy: 0.9900 - val_loss: 0.0080 - val_accuracy: 1.0000\n",
      "Epoch 23/30\n",
      "38/38 [==============================] - 32s 839ms/step - loss: 0.1865 - accuracy: 0.9625 - val_loss: 0.2087 - val_accuracy: 0.9333\n",
      "Epoch 24/30\n",
      "38/38 [==============================] - 31s 825ms/step - loss: 0.1278 - accuracy: 0.9533 - val_loss: 0.0604 - val_accuracy: 0.9733\n",
      "Epoch 25/30\n",
      "38/38 [==============================] - 34s 896ms/step - loss: 0.0314 - accuracy: 0.9875 - val_loss: 0.0158 - val_accuracy: 0.9933\n",
      "Epoch 26/30\n",
      "38/38 [==============================] - 35s 910ms/step - loss: 0.0145 - accuracy: 0.9942 - val_loss: 0.0066 - val_accuracy: 1.0000\n",
      "Epoch 27/30\n",
      "38/38 [==============================] - 33s 863ms/step - loss: 0.0486 - accuracy: 0.9925 - val_loss: 0.0091 - val_accuracy: 1.0000\n",
      "Epoch 28/30\n",
      "38/38 [==============================] - 33s 875ms/step - loss: 0.0959 - accuracy: 0.9783 - val_loss: 0.0428 - val_accuracy: 0.9667\n",
      "Epoch 29/30\n",
      "38/38 [==============================] - 32s 839ms/step - loss: 0.1195 - accuracy: 0.9733 - val_loss: 0.0071 - val_accuracy: 0.9933\n",
      "Epoch 30/30\n",
      "38/38 [==============================] - 33s 880ms/step - loss: 0.0708 - accuracy: 0.9892 - val_loss: 0.0036 - val_accuracy: 1.0000\n"
     ]
    }
   ],
   "source": [
    "acc_checkpoint = tf.keras.callbacks.ModelCheckpoint(\n",
    "    filepath='best_accuracy_weights.h5',\n",
    "    save_weights_only=True,\n",
    "    monitor='val_accuracy',\n",
    "    mode='max',\n",
    "    save_best_only=True,\n",
    ")\n",
    "\n",
    "loss_checkpoint = tf.keras.callbacks.ModelCheckpoint(\n",
    "    filepath='best_loss_weights.h5',\n",
    "    save_weights_only=True,\n",
    "    monitor='val_loss',\n",
    "    mode='min',\n",
    "    save_best_only=True,\n",
    ")\n",
    "\n",
    "hist = model.fit(X_train, Y_train,\n",
    "                 epochs=30, batch_size=32,\n",
    "                 validation_data=(X_val, Y_val),\n",
    "                 callbacks=[acc_checkpoint, loss_checkpoint]\n",
    "                )"
   ]
  },
  {
   "cell_type": "code",
   "execution_count": 18,
   "metadata": {
    "id": "1-cpsciahKwL"
   },
   "outputs": [],
   "source": [
    "# model.load_weights('best_accuracy_weights.h5')\n",
    "model.load_weights('best_loss_weights.h5')"
   ]
  },
  {
   "cell_type": "code",
   "execution_count": 19,
   "metadata": {
    "colab": {
     "base_uri": "https://localhost:8080/"
    },
    "id": "P5_sv9coltB2",
    "outputId": "3997ef6e-516f-4cc3-c75c-4d92b1a5d024"
   },
   "outputs": [
    {
     "name": "stdout",
     "output_type": "stream",
     "text": [
      "5/5 [==============================] - 1s 99ms/step - loss: 0.0036 - accuracy: 1.0000\n"
     ]
    },
    {
     "data": {
      "text/plain": [
       "[0.0035534945782274008, 1.0]"
      ]
     },
     "execution_count": 19,
     "metadata": {},
     "output_type": "execute_result"
    }
   ],
   "source": [
    "model.evaluate(X_val, Y_val)"
   ]
  },
  {
   "cell_type": "code",
   "execution_count": 20,
   "metadata": {
    "colab": {
     "base_uri": "https://localhost:8080/"
    },
    "id": "4znOlgI5p9V0",
    "outputId": "8fee9855-f6b6-40a5-eb5b-ea03853fd7b9"
   },
   "outputs": [
    {
     "name": "stdout",
     "output_type": "stream",
     "text": [
      "5/5 [==============================] - 1s 102ms/step - loss: 0.0335 - accuracy: 0.9867\n"
     ]
    },
    {
     "data": {
      "text/plain": [
       "[0.03351197391748428, 0.9866666793823242]"
      ]
     },
     "execution_count": 20,
     "metadata": {},
     "output_type": "execute_result"
    }
   ],
   "source": [
    "model.evaluate(X_test, Y_test)"
   ]
  }
 ],
 "metadata": {
  "accelerator": "GPU",
  "colab": {
   "gpuType": "T4",
   "provenance": []
  },
  "kernelspec": {
   "display_name": "Python 3",
   "language": "python",
   "name": "python3"
  },
  "language_info": {
   "codemirror_mode": {
    "name": "ipython",
    "version": 3
   },
   "file_extension": ".py",
   "mimetype": "text/x-python",
   "name": "python",
   "nbconvert_exporter": "python",
   "pygments_lexer": "ipython3",
   "version": "3.8.8"
  }
 },
 "nbformat": 4,
 "nbformat_minor": 1
}
